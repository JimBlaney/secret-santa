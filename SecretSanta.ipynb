{
 "cells": [
  {
   "cell_type": "code",
   "execution_count": 1,
   "metadata": {
    "collapsed": false
   },
   "outputs": [
    {
     "name": "stdout",
     "output_type": "stream",
     "text": [
      "  Jim & Hillary -> Jamie & Jerry  \n",
      "Katie & Alvaro  -> Shawn & Faith  \n",
      "Steph & Mike    ->   Jim & Hillary\n",
      "Jamie & Jerry   -> Steph & Mike   \n",
      "Shawn & Faith   -> Katie & Alvaro \n"
     ]
    }
   ],
   "source": [
    "import random;\n",
    "\n",
    "# compare two lists and return whether or not \n",
    "# any two elements are at the same index\n",
    "def has_any_same(lhs, rhs):\n",
    "    for lindex, litem in enumerate(lhs):\n",
    "        rindex = rhs.index(litem);\n",
    "        if rindex == lindex:\n",
    "            return True;\n",
    "    return False;\n",
    "\n",
    "# list of all participants\n",
    "gifters = [\n",
    "  '  Jim & Hillary',\n",
    "  'Katie & Alvaro ',\n",
    "  'Steph & Mike   ',\n",
    "  'Jamie & Jerry  ',\n",
    "  'Shawn & Faith  '\n",
    "];\n",
    "\n",
    "# copy the input list and shuffle while \n",
    "# any giftee is the same as the gifter\n",
    "giftees = list(gifters);\n",
    "while has_any_same(gifters, giftees):\n",
    "    random.shuffle(giftees);\n",
    "\n",
    "# print the output\n",
    "for combo in zip(gifters, giftees):\n",
    "    print '{} -> {}'.format(*combo);"
   ]
  },
  {
   "cell_type": "code",
   "execution_count": null,
   "metadata": {
    "collapsed": true
   },
   "outputs": [],
   "source": []
  }
 ],
 "metadata": {
  "kernelspec": {
   "display_name": "Python 2",
   "language": "python",
   "name": "python2"
  },
  "language_info": {
   "codemirror_mode": {
    "name": "ipython",
    "version": 2
   },
   "file_extension": ".py",
   "mimetype": "text/x-python",
   "name": "python",
   "nbconvert_exporter": "python",
   "pygments_lexer": "ipython2",
   "version": "2.7.6"
  }
 },
 "nbformat": 4,
 "nbformat_minor": 1
}
